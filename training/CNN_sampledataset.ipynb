{
  "nbformat": 4,
  "nbformat_minor": 0,
  "metadata": {
    "colab": {
      "provenance": []
    },
    "kernelspec": {
      "name": "python3",
      "display_name": "Python 3"
    },
    "language_info": {
      "name": "python"
    }
  },
  "cells": [
    {
      "cell_type": "code",
      "execution_count": 1,
      "metadata": {
        "colab": {
          "base_uri": "https://localhost:8080/"
        },
        "id": "Qch5CoZa4vZ8",
        "outputId": "a9a4f016-44ff-40cc-e6d6-a45cbc75e8b7"
      },
      "outputs": [
        {
          "output_type": "stream",
          "name": "stdout",
          "text": [
            "Requirement already satisfied: transformers in /usr/local/lib/python3.11/dist-packages (4.51.3)\n",
            "Collecting datasets\n",
            "  Downloading datasets-3.5.0-py3-none-any.whl.metadata (19 kB)\n",
            "Collecting evaluate\n",
            "  Downloading evaluate-0.4.3-py3-none-any.whl.metadata (9.2 kB)\n",
            "Requirement already satisfied: peft in /usr/local/lib/python3.11/dist-packages (0.14.0)\n",
            "Requirement already satisfied: nltk in /usr/local/lib/python3.11/dist-packages (3.9.1)\n",
            "Collecting rouge-score\n",
            "  Downloading rouge_score-0.1.2.tar.gz (17 kB)\n",
            "  Preparing metadata (setup.py) ... \u001b[?25l\u001b[?25hdone\n",
            "Requirement already satisfied: filelock in /usr/local/lib/python3.11/dist-packages (from transformers) (3.18.0)\n",
            "Requirement already satisfied: huggingface-hub<1.0,>=0.30.0 in /usr/local/lib/python3.11/dist-packages (from transformers) (0.30.2)\n",
            "Requirement already satisfied: numpy>=1.17 in /usr/local/lib/python3.11/dist-packages (from transformers) (2.0.2)\n",
            "Requirement already satisfied: packaging>=20.0 in /usr/local/lib/python3.11/dist-packages (from transformers) (24.2)\n",
            "Requirement already satisfied: pyyaml>=5.1 in /usr/local/lib/python3.11/dist-packages (from transformers) (6.0.2)\n",
            "Requirement already satisfied: regex!=2019.12.17 in /usr/local/lib/python3.11/dist-packages (from transformers) (2024.11.6)\n",
            "Requirement already satisfied: requests in /usr/local/lib/python3.11/dist-packages (from transformers) (2.32.3)\n",
            "Requirement already satisfied: tokenizers<0.22,>=0.21 in /usr/local/lib/python3.11/dist-packages (from transformers) (0.21.1)\n",
            "Requirement already satisfied: safetensors>=0.4.3 in /usr/local/lib/python3.11/dist-packages (from transformers) (0.5.3)\n",
            "Requirement already satisfied: tqdm>=4.27 in /usr/local/lib/python3.11/dist-packages (from transformers) (4.67.1)\n",
            "Requirement already satisfied: pyarrow>=15.0.0 in /usr/local/lib/python3.11/dist-packages (from datasets) (18.1.0)\n",
            "Collecting dill<0.3.9,>=0.3.0 (from datasets)\n",
            "  Downloading dill-0.3.8-py3-none-any.whl.metadata (10 kB)\n",
            "Requirement already satisfied: pandas in /usr/local/lib/python3.11/dist-packages (from datasets) (2.2.2)\n",
            "Collecting xxhash (from datasets)\n",
            "  Downloading xxhash-3.5.0-cp311-cp311-manylinux_2_17_x86_64.manylinux2014_x86_64.whl.metadata (12 kB)\n",
            "Collecting multiprocess<0.70.17 (from datasets)\n",
            "  Downloading multiprocess-0.70.16-py311-none-any.whl.metadata (7.2 kB)\n",
            "Collecting fsspec<=2024.12.0,>=2023.1.0 (from fsspec[http]<=2024.12.0,>=2023.1.0->datasets)\n",
            "  Downloading fsspec-2024.12.0-py3-none-any.whl.metadata (11 kB)\n",
            "Requirement already satisfied: aiohttp in /usr/local/lib/python3.11/dist-packages (from datasets) (3.11.15)\n",
            "Requirement already satisfied: psutil in /usr/local/lib/python3.11/dist-packages (from peft) (5.9.5)\n",
            "Requirement already satisfied: torch>=1.13.0 in /usr/local/lib/python3.11/dist-packages (from peft) (2.6.0+cu124)\n",
            "Requirement already satisfied: accelerate>=0.21.0 in /usr/local/lib/python3.11/dist-packages (from peft) (1.5.2)\n",
            "Requirement already satisfied: click in /usr/local/lib/python3.11/dist-packages (from nltk) (8.1.8)\n",
            "Requirement already satisfied: joblib in /usr/local/lib/python3.11/dist-packages (from nltk) (1.4.2)\n",
            "Requirement already satisfied: absl-py in /usr/local/lib/python3.11/dist-packages (from rouge-score) (1.4.0)\n",
            "Requirement already satisfied: six>=1.14.0 in /usr/local/lib/python3.11/dist-packages (from rouge-score) (1.17.0)\n",
            "Requirement already satisfied: aiohappyeyeballs>=2.3.0 in /usr/local/lib/python3.11/dist-packages (from aiohttp->datasets) (2.6.1)\n",
            "Requirement already satisfied: aiosignal>=1.1.2 in /usr/local/lib/python3.11/dist-packages (from aiohttp->datasets) (1.3.2)\n",
            "Requirement already satisfied: attrs>=17.3.0 in /usr/local/lib/python3.11/dist-packages (from aiohttp->datasets) (25.3.0)\n",
            "Requirement already satisfied: frozenlist>=1.1.1 in /usr/local/lib/python3.11/dist-packages (from aiohttp->datasets) (1.5.0)\n",
            "Requirement already satisfied: multidict<7.0,>=4.5 in /usr/local/lib/python3.11/dist-packages (from aiohttp->datasets) (6.4.3)\n",
            "Requirement already satisfied: propcache>=0.2.0 in /usr/local/lib/python3.11/dist-packages (from aiohttp->datasets) (0.3.1)\n",
            "Requirement already satisfied: yarl<2.0,>=1.17.0 in /usr/local/lib/python3.11/dist-packages (from aiohttp->datasets) (1.19.0)\n",
            "Requirement already satisfied: typing-extensions>=3.7.4.3 in /usr/local/lib/python3.11/dist-packages (from huggingface-hub<1.0,>=0.30.0->transformers) (4.13.2)\n",
            "Requirement already satisfied: charset-normalizer<4,>=2 in /usr/local/lib/python3.11/dist-packages (from requests->transformers) (3.4.1)\n",
            "Requirement already satisfied: idna<4,>=2.5 in /usr/local/lib/python3.11/dist-packages (from requests->transformers) (3.10)\n",
            "Requirement already satisfied: urllib3<3,>=1.21.1 in /usr/local/lib/python3.11/dist-packages (from requests->transformers) (2.3.0)\n",
            "Requirement already satisfied: certifi>=2017.4.17 in /usr/local/lib/python3.11/dist-packages (from requests->transformers) (2025.1.31)\n",
            "Requirement already satisfied: networkx in /usr/local/lib/python3.11/dist-packages (from torch>=1.13.0->peft) (3.4.2)\n",
            "Requirement already satisfied: jinja2 in /usr/local/lib/python3.11/dist-packages (from torch>=1.13.0->peft) (3.1.6)\n",
            "Collecting nvidia-cuda-nvrtc-cu12==12.4.127 (from torch>=1.13.0->peft)\n",
            "  Downloading nvidia_cuda_nvrtc_cu12-12.4.127-py3-none-manylinux2014_x86_64.whl.metadata (1.5 kB)\n",
            "Collecting nvidia-cuda-runtime-cu12==12.4.127 (from torch>=1.13.0->peft)\n",
            "  Downloading nvidia_cuda_runtime_cu12-12.4.127-py3-none-manylinux2014_x86_64.whl.metadata (1.5 kB)\n",
            "Collecting nvidia-cuda-cupti-cu12==12.4.127 (from torch>=1.13.0->peft)\n",
            "\u001b[33m  WARNING: Retrying (Retry(total=4, connect=None, read=None, redirect=None, status=None)) after connection broken by 'ProtocolError('Connection aborted.', RemoteDisconnected('Remote end closed connection without response'))': /packages/67/42/f4f60238e8194a3106d06a058d494b18e006c10bb2b915655bd9f6ea4cb1/nvidia_cuda_cupti_cu12-12.4.127-py3-none-manylinux2014_x86_64.whl.metadata\u001b[0m\u001b[33m\n",
            "\u001b[0m  Downloading nvidia_cuda_cupti_cu12-12.4.127-py3-none-manylinux2014_x86_64.whl.metadata (1.6 kB)\n",
            "Collecting nvidia-cudnn-cu12==9.1.0.70 (from torch>=1.13.0->peft)\n",
            "  Downloading nvidia_cudnn_cu12-9.1.0.70-py3-none-manylinux2014_x86_64.whl.metadata (1.6 kB)\n",
            "Collecting nvidia-cublas-cu12==12.4.5.8 (from torch>=1.13.0->peft)\n",
            "  Downloading nvidia_cublas_cu12-12.4.5.8-py3-none-manylinux2014_x86_64.whl.metadata (1.5 kB)\n",
            "Collecting nvidia-cufft-cu12==11.2.1.3 (from torch>=1.13.0->peft)\n",
            "  Downloading nvidia_cufft_cu12-11.2.1.3-py3-none-manylinux2014_x86_64.whl.metadata (1.5 kB)\n",
            "Collecting nvidia-curand-cu12==10.3.5.147 (from torch>=1.13.0->peft)\n",
            "  Downloading nvidia_curand_cu12-10.3.5.147-py3-none-manylinux2014_x86_64.whl.metadata (1.5 kB)\n",
            "Collecting nvidia-cusolver-cu12==11.6.1.9 (from torch>=1.13.0->peft)\n",
            "  Downloading nvidia_cusolver_cu12-11.6.1.9-py3-none-manylinux2014_x86_64.whl.metadata (1.6 kB)\n",
            "Collecting nvidia-cusparse-cu12==12.3.1.170 (from torch>=1.13.0->peft)\n",
            "  Downloading nvidia_cusparse_cu12-12.3.1.170-py3-none-manylinux2014_x86_64.whl.metadata (1.6 kB)\n",
            "Requirement already satisfied: nvidia-cusparselt-cu12==0.6.2 in /usr/local/lib/python3.11/dist-packages (from torch>=1.13.0->peft) (0.6.2)\n",
            "Requirement already satisfied: nvidia-nccl-cu12==2.21.5 in /usr/local/lib/python3.11/dist-packages (from torch>=1.13.0->peft) (2.21.5)\n",
            "Requirement already satisfied: nvidia-nvtx-cu12==12.4.127 in /usr/local/lib/python3.11/dist-packages (from torch>=1.13.0->peft) (12.4.127)\n",
            "Collecting nvidia-nvjitlink-cu12==12.4.127 (from torch>=1.13.0->peft)\n",
            "  Downloading nvidia_nvjitlink_cu12-12.4.127-py3-none-manylinux2014_x86_64.whl.metadata (1.5 kB)\n",
            "Requirement already satisfied: triton==3.2.0 in /usr/local/lib/python3.11/dist-packages (from torch>=1.13.0->peft) (3.2.0)\n",
            "Requirement already satisfied: sympy==1.13.1 in /usr/local/lib/python3.11/dist-packages (from torch>=1.13.0->peft) (1.13.1)\n",
            "Requirement already satisfied: mpmath<1.4,>=1.1.0 in /usr/local/lib/python3.11/dist-packages (from sympy==1.13.1->torch>=1.13.0->peft) (1.3.0)\n",
            "Requirement already satisfied: python-dateutil>=2.8.2 in /usr/local/lib/python3.11/dist-packages (from pandas->datasets) (2.8.2)\n",
            "Requirement already satisfied: pytz>=2020.1 in /usr/local/lib/python3.11/dist-packages (from pandas->datasets) (2025.2)\n",
            "Requirement already satisfied: tzdata>=2022.7 in /usr/local/lib/python3.11/dist-packages (from pandas->datasets) (2025.2)\n",
            "Requirement already satisfied: MarkupSafe>=2.0 in /usr/local/lib/python3.11/dist-packages (from jinja2->torch>=1.13.0->peft) (3.0.2)\n",
            "Downloading datasets-3.5.0-py3-none-any.whl (491 kB)\n",
            "\u001b[2K   \u001b[90m━━━━━━━━━━━━━━━━━━━━━━━━━━━━━━━━━━━━━━━━\u001b[0m \u001b[32m491.2/491.2 kB\u001b[0m \u001b[31m8.4 MB/s\u001b[0m eta \u001b[36m0:00:00\u001b[0m\n",
            "\u001b[?25hDownloading evaluate-0.4.3-py3-none-any.whl (84 kB)\n",
            "\u001b[2K   \u001b[90m━━━━━━━━━━━━━━━━━━━━━━━━━━━━━━━━━━━━━━━━\u001b[0m \u001b[32m84.0/84.0 kB\u001b[0m \u001b[31m5.1 MB/s\u001b[0m eta \u001b[36m0:00:00\u001b[0m\n",
            "\u001b[?25hDownloading dill-0.3.8-py3-none-any.whl (116 kB)\n",
            "\u001b[2K   \u001b[90m━━━━━━━━━━━━━━━━━━━━━━━━━━━━━━━━━━━━━━━━\u001b[0m \u001b[32m116.3/116.3 kB\u001b[0m \u001b[31m8.2 MB/s\u001b[0m eta \u001b[36m0:00:00\u001b[0m\n",
            "\u001b[?25hDownloading fsspec-2024.12.0-py3-none-any.whl (183 kB)\n",
            "\u001b[2K   \u001b[90m━━━━━━━━━━━━━━━━━━━━━━━━━━━━━━━━━━━━━━━━\u001b[0m \u001b[32m183.9/183.9 kB\u001b[0m \u001b[31m12.2 MB/s\u001b[0m eta \u001b[36m0:00:00\u001b[0m\n",
            "\u001b[?25hDownloading multiprocess-0.70.16-py311-none-any.whl (143 kB)\n",
            "\u001b[2K   \u001b[90m━━━━━━━━━━━━━━━━━━━━━━━━━━━━━━━━━━━━━━━━\u001b[0m \u001b[32m143.5/143.5 kB\u001b[0m \u001b[31m8.6 MB/s\u001b[0m eta \u001b[36m0:00:00\u001b[0m\n",
            "\u001b[?25hDownloading nvidia_cublas_cu12-12.4.5.8-py3-none-manylinux2014_x86_64.whl (363.4 MB)\n",
            "\u001b[2K   \u001b[90m━━━━━━━━━━━━━━━━━━━━━━━━━━━━━━━━━━━━━━━━\u001b[0m \u001b[32m363.4/363.4 MB\u001b[0m \u001b[31m4.0 MB/s\u001b[0m eta \u001b[36m0:00:00\u001b[0m\n",
            "\u001b[?25hDownloading nvidia_cuda_cupti_cu12-12.4.127-py3-none-manylinux2014_x86_64.whl (13.8 MB)\n",
            "\u001b[2K   \u001b[90m━━━━━━━━━━━━━━━━━━━━━━━━━━━━━━━━━━━━━━━━\u001b[0m \u001b[32m13.8/13.8 MB\u001b[0m \u001b[31m45.2 MB/s\u001b[0m eta \u001b[36m0:00:00\u001b[0m\n",
            "\u001b[?25hDownloading nvidia_cuda_nvrtc_cu12-12.4.127-py3-none-manylinux2014_x86_64.whl (24.6 MB)\n",
            "\u001b[2K   \u001b[90m━━━━━━━━━━━━━━━━━━━━━━━━━━━━━━━━━━━━━━━━\u001b[0m \u001b[32m24.6/24.6 MB\u001b[0m \u001b[31m44.1 MB/s\u001b[0m eta \u001b[36m0:00:00\u001b[0m\n",
            "\u001b[?25hDownloading nvidia_cuda_runtime_cu12-12.4.127-py3-none-manylinux2014_x86_64.whl (883 kB)\n",
            "\u001b[2K   \u001b[90m━━━━━━━━━━━━━━━━━━━━━━━━━━━━━━━━━━━━━━━━\u001b[0m \u001b[32m883.7/883.7 kB\u001b[0m \u001b[31m23.3 MB/s\u001b[0m eta \u001b[36m0:00:00\u001b[0m\n",
            "\u001b[?25hDownloading nvidia_cudnn_cu12-9.1.0.70-py3-none-manylinux2014_x86_64.whl (664.8 MB)\n",
            "\u001b[2K   \u001b[90m━━━━━━━━━━━━━━━━━━━━━━━━━━━━━━━━━━━━━━━━\u001b[0m \u001b[32m664.8/664.8 MB\u001b[0m \u001b[31m2.8 MB/s\u001b[0m eta \u001b[36m0:00:00\u001b[0m\n",
            "\u001b[?25hDownloading nvidia_cufft_cu12-11.2.1.3-py3-none-manylinux2014_x86_64.whl (211.5 MB)\n",
            "\u001b[2K   \u001b[90m━━━━━━━━━━━━━━━━━━━━━━━━━━━━━━━━━━━━━━━━\u001b[0m \u001b[32m211.5/211.5 MB\u001b[0m \u001b[31m6.1 MB/s\u001b[0m eta \u001b[36m0:00:00\u001b[0m\n",
            "\u001b[?25hDownloading nvidia_curand_cu12-10.3.5.147-py3-none-manylinux2014_x86_64.whl (56.3 MB)\n",
            "\u001b[2K   \u001b[90m━━━━━━━━━━━━━━━━━━━━━━━━━━━━━━━━━━━━━━━━\u001b[0m \u001b[32m56.3/56.3 MB\u001b[0m \u001b[31m13.0 MB/s\u001b[0m eta \u001b[36m0:00:00\u001b[0m\n",
            "\u001b[?25hDownloading nvidia_cusolver_cu12-11.6.1.9-py3-none-manylinux2014_x86_64.whl (127.9 MB)\n",
            "\u001b[2K   \u001b[90m━━━━━━━━━━━━━━━━━━━━━━━━━━━━━━━━━━━━━━━━\u001b[0m \u001b[32m127.9/127.9 MB\u001b[0m \u001b[31m7.4 MB/s\u001b[0m eta \u001b[36m0:00:00\u001b[0m\n",
            "\u001b[?25hDownloading nvidia_cusparse_cu12-12.3.1.170-py3-none-manylinux2014_x86_64.whl (207.5 MB)\n",
            "\u001b[2K   \u001b[90m━━━━━━━━━━━━━━━━━━━━━━━━━━━━━━━━━━━━━━━━\u001b[0m \u001b[32m207.5/207.5 MB\u001b[0m \u001b[31m6.2 MB/s\u001b[0m eta \u001b[36m0:00:00\u001b[0m\n",
            "\u001b[?25hDownloading nvidia_nvjitlink_cu12-12.4.127-py3-none-manylinux2014_x86_64.whl (21.1 MB)\n",
            "\u001b[2K   \u001b[90m━━━━━━━━━━━━━━━━━━━━━━━━━━━━━━━━━━━━━━━━\u001b[0m \u001b[32m21.1/21.1 MB\u001b[0m \u001b[31m84.0 MB/s\u001b[0m eta \u001b[36m0:00:00\u001b[0m\n",
            "\u001b[?25hDownloading xxhash-3.5.0-cp311-cp311-manylinux_2_17_x86_64.manylinux2014_x86_64.whl (194 kB)\n",
            "\u001b[2K   \u001b[90m━━━━━━━━━━━━━━━━━━━━━━━━━━━━━━━━━━━━━━━━\u001b[0m \u001b[32m194.8/194.8 kB\u001b[0m \u001b[31m12.7 MB/s\u001b[0m eta \u001b[36m0:00:00\u001b[0m\n",
            "\u001b[?25hBuilding wheels for collected packages: rouge-score\n",
            "  Building wheel for rouge-score (setup.py) ... \u001b[?25l\u001b[?25hdone\n",
            "  Created wheel for rouge-score: filename=rouge_score-0.1.2-py3-none-any.whl size=24934 sha256=40bb35b2ae9f0d2f71807006f0321d0f80e7761a3012b17f8e4817925ee381bf\n",
            "  Stored in directory: /root/.cache/pip/wheels/1e/19/43/8a442dc83660ca25e163e1bd1f89919284ab0d0c1475475148\n",
            "Successfully built rouge-score\n",
            "Installing collected packages: xxhash, nvidia-nvjitlink-cu12, nvidia-curand-cu12, nvidia-cufft-cu12, nvidia-cuda-runtime-cu12, nvidia-cuda-nvrtc-cu12, nvidia-cuda-cupti-cu12, nvidia-cublas-cu12, fsspec, dill, rouge-score, nvidia-cusparse-cu12, nvidia-cudnn-cu12, multiprocess, nvidia-cusolver-cu12, datasets, evaluate\n",
            "  Attempting uninstall: nvidia-nvjitlink-cu12\n",
            "    Found existing installation: nvidia-nvjitlink-cu12 12.5.82\n",
            "    Uninstalling nvidia-nvjitlink-cu12-12.5.82:\n",
            "      Successfully uninstalled nvidia-nvjitlink-cu12-12.5.82\n",
            "  Attempting uninstall: nvidia-curand-cu12\n",
            "    Found existing installation: nvidia-curand-cu12 10.3.6.82\n",
            "    Uninstalling nvidia-curand-cu12-10.3.6.82:\n",
            "      Successfully uninstalled nvidia-curand-cu12-10.3.6.82\n",
            "  Attempting uninstall: nvidia-cufft-cu12\n",
            "    Found existing installation: nvidia-cufft-cu12 11.2.3.61\n",
            "    Uninstalling nvidia-cufft-cu12-11.2.3.61:\n",
            "      Successfully uninstalled nvidia-cufft-cu12-11.2.3.61\n",
            "  Attempting uninstall: nvidia-cuda-runtime-cu12\n",
            "    Found existing installation: nvidia-cuda-runtime-cu12 12.5.82\n",
            "    Uninstalling nvidia-cuda-runtime-cu12-12.5.82:\n",
            "      Successfully uninstalled nvidia-cuda-runtime-cu12-12.5.82\n",
            "  Attempting uninstall: nvidia-cuda-nvrtc-cu12\n",
            "    Found existing installation: nvidia-cuda-nvrtc-cu12 12.5.82\n",
            "    Uninstalling nvidia-cuda-nvrtc-cu12-12.5.82:\n",
            "      Successfully uninstalled nvidia-cuda-nvrtc-cu12-12.5.82\n",
            "  Attempting uninstall: nvidia-cuda-cupti-cu12\n",
            "    Found existing installation: nvidia-cuda-cupti-cu12 12.5.82\n",
            "    Uninstalling nvidia-cuda-cupti-cu12-12.5.82:\n",
            "      Successfully uninstalled nvidia-cuda-cupti-cu12-12.5.82\n",
            "  Attempting uninstall: nvidia-cublas-cu12\n",
            "    Found existing installation: nvidia-cublas-cu12 12.5.3.2\n",
            "    Uninstalling nvidia-cublas-cu12-12.5.3.2:\n",
            "      Successfully uninstalled nvidia-cublas-cu12-12.5.3.2\n",
            "  Attempting uninstall: fsspec\n",
            "    Found existing installation: fsspec 2025.3.2\n",
            "    Uninstalling fsspec-2025.3.2:\n",
            "      Successfully uninstalled fsspec-2025.3.2\n",
            "  Attempting uninstall: nvidia-cusparse-cu12\n",
            "    Found existing installation: nvidia-cusparse-cu12 12.5.1.3\n",
            "    Uninstalling nvidia-cusparse-cu12-12.5.1.3:\n",
            "      Successfully uninstalled nvidia-cusparse-cu12-12.5.1.3\n",
            "  Attempting uninstall: nvidia-cudnn-cu12\n",
            "    Found existing installation: nvidia-cudnn-cu12 9.3.0.75\n",
            "    Uninstalling nvidia-cudnn-cu12-9.3.0.75:\n",
            "      Successfully uninstalled nvidia-cudnn-cu12-9.3.0.75\n",
            "  Attempting uninstall: nvidia-cusolver-cu12\n",
            "    Found existing installation: nvidia-cusolver-cu12 11.6.3.83\n",
            "    Uninstalling nvidia-cusolver-cu12-11.6.3.83:\n",
            "      Successfully uninstalled nvidia-cusolver-cu12-11.6.3.83\n",
            "\u001b[31mERROR: pip's dependency resolver does not currently take into account all the packages that are installed. This behaviour is the source of the following dependency conflicts.\n",
            "gcsfs 2025.3.2 requires fsspec==2025.3.2, but you have fsspec 2024.12.0 which is incompatible.\u001b[0m\u001b[31m\n",
            "\u001b[0mSuccessfully installed datasets-3.5.0 dill-0.3.8 evaluate-0.4.3 fsspec-2024.12.0 multiprocess-0.70.16 nvidia-cublas-cu12-12.4.5.8 nvidia-cuda-cupti-cu12-12.4.127 nvidia-cuda-nvrtc-cu12-12.4.127 nvidia-cuda-runtime-cu12-12.4.127 nvidia-cudnn-cu12-9.1.0.70 nvidia-cufft-cu12-11.2.1.3 nvidia-curand-cu12-10.3.5.147 nvidia-cusolver-cu12-11.6.1.9 nvidia-cusparse-cu12-12.3.1.170 nvidia-nvjitlink-cu12-12.4.127 rouge-score-0.1.2 xxhash-3.5.0\n"
          ]
        }
      ],
      "source": [
        "!pip install transformers datasets evaluate peft nltk rouge-score"
      ]
    },
    {
      "cell_type": "markdown",
      "source": [
        "Environment setup and imports"
      ],
      "metadata": {
        "id": "fuCHBIar6AWx"
      }
    },
    {
      "cell_type": "code",
      "source": [
        "import os\n",
        "import torch\n",
        "import numpy as np\n",
        "from datasets import load_dataset\n",
        "from transformers import (\n",
        "    T5ForConditionalGeneration,\n",
        "    T5Tokenizer,\n",
        "    Seq2SeqTrainingArguments,  # Note: change to Seq2SeqTrainingArguments\n",
        "    Seq2SeqTrainer,\n",
        "    DataCollatorForSeq2Seq\n",
        ")\n",
        "from peft import get_peft_model, LoraConfig, TaskType\n",
        "import evaluate\n",
        "from tqdm.auto import tqdm\n",
        "\n",
        "# Set up environment\n",
        "print(\"Setting up environment...\")\n",
        "device = torch.device(\"cuda\" if torch.cuda.is_available() else \"cpu\")\n",
        "print(f\"Using device: {device}\")\n",
        "\n",
        "# Set random seed for reproducibility\n",
        "SEED = 42\n",
        "torch.manual_seed(SEED)\n",
        "np.random.seed(SEED)"
      ],
      "metadata": {
        "colab": {
          "base_uri": "https://localhost:8080/"
        },
        "id": "cQ7g7sZr6Aol",
        "outputId": "a8fff0fa-c130-48f6-d182-dea50c37edec"
      },
      "execution_count": 3,
      "outputs": [
        {
          "output_type": "stream",
          "name": "stdout",
          "text": [
            "Setting up environment...\n",
            "Using device: cpu\n"
          ]
        }
      ]
    },
    {
      "cell_type": "markdown",
      "source": [
        " Load dataset\n"
      ],
      "metadata": {
        "id": "R5FlhT1p6Fo6"
      }
    },
    {
      "cell_type": "code",
      "source": [
        "# Load a small sample from CNN/DailyMail\n",
        "print(\"Loading small sample from CNN/DailyMail dataset...\")\n",
        "dataset = load_dataset(\"abisee/cnn_dailymail\", \"3.0.0\")\n",
        "\n",
        "# Create small samples for POC\n",
        "SAMPLE_SIZE = 15\n",
        "train_dataset = dataset[\"train\"].select(range(SAMPLE_SIZE))\n",
        "val_dataset = dataset[\"validation\"].select(range(5))\n",
        "test_dataset = dataset[\"test\"].select(range(5))\n",
        "\n",
        "print(f\"Dataset samples loaded: {len(train_dataset)} train, {len(val_dataset)} validation, {len(test_dataset)} test\")"
      ],
      "metadata": {
        "colab": {
          "base_uri": "https://localhost:8080/"
        },
        "id": "RMK8Oelw6F6a",
        "outputId": "5fbeefaf-a24c-455c-f7d0-623f895066d2"
      },
      "execution_count": 4,
      "outputs": [
        {
          "output_type": "stream",
          "name": "stdout",
          "text": [
            "Loading small sample from CNN/DailyMail dataset...\n",
            "Dataset samples loaded: 15 train, 5 validation, 5 test\n"
          ]
        }
      ]
    },
    {
      "cell_type": "markdown",
      "source": [
        "Preprocess data"
      ],
      "metadata": {
        "id": "ASBHah7F6La_"
      }
    },
    {
      "cell_type": "code",
      "source": [
        "# Preprocessing function\n",
        "def preprocess_example(example):\n",
        "    \"\"\"Clean text by removing extra spaces and fixing punctuation\"\"\"\n",
        "    article = ' '.join(example[\"article\"].split())\n",
        "    summary = ' '.join(example[\"highlights\"].split())\n",
        "\n",
        "    # Fix spacing around punctuation\n",
        "    for punct in ['.', ',', '!', '?', ';', ':']:\n",
        "        article = article.replace(f\" {punct}\", punct)\n",
        "        summary = summary.replace(f\" {punct}\", punct)\n",
        "\n",
        "    return {\n",
        "        \"article\": article.strip(),\n",
        "        \"summary\": summary.strip(),\n",
        "        \"id\": example[\"id\"]\n",
        "    }\n",
        "\n",
        "# Apply preprocessing\n",
        "print(\"Preprocessing data...\")\n",
        "train_dataset = train_dataset.map(preprocess_example)\n",
        "val_dataset = val_dataset.map(preprocess_example)\n",
        "test_dataset = test_dataset.map(preprocess_example)"
      ],
      "metadata": {
        "colab": {
          "base_uri": "https://localhost:8080/"
        },
        "id": "eMhkCDCb6L6d",
        "outputId": "29fa3495-0b0f-4dfe-8f87-9eb861bfaa8b"
      },
      "execution_count": 5,
      "outputs": [
        {
          "output_type": "stream",
          "name": "stdout",
          "text": [
            "Preprocessing data...\n"
          ]
        }
      ]
    },
    {
      "cell_type": "markdown",
      "source": [
        "Load model and setup LoRA"
      ],
      "metadata": {
        "id": "NiI73e-26QrL"
      }
    },
    {
      "cell_type": "code",
      "source": [
        "# Load model and tokenizer\n",
        "print(\"Loading model and tokenizer...\")\n",
        "MODEL_NAME = \"t5-small\"  # Smaller model (60M parameters) good for beginners\n",
        "tokenizer = T5Tokenizer.from_pretrained(MODEL_NAME)\n",
        "base_model = T5ForConditionalGeneration.from_pretrained(MODEL_NAME)\n",
        "\n",
        "# Setup LoRA for parameter-efficient fine-tuning\n",
        "print(\"Setting up LoRA for parameter-efficient fine-tuning...\")\n",
        "peft_config = LoraConfig(\n",
        "    task_type=TaskType.SEQ_2_SEQ_LM,\n",
        "    r=8,                        # Rank of low-rank matrices\n",
        "    lora_alpha=32,              # Parameter scaling\n",
        "    lora_dropout=0.1,\n",
        "    target_modules=[\"q\", \"v\"],  # Only fine-tune query and value projection matrices\n",
        ")\n",
        "\n",
        "# Apply LoRA to model\n",
        "model = get_peft_model(base_model, peft_config)\n",
        "print(f\"Trainable parameters: {model.print_trainable_parameters()}\")"
      ],
      "metadata": {
        "colab": {
          "base_uri": "https://localhost:8080/"
        },
        "id": "w90nxW5v6RJo",
        "outputId": "0b01c298-9e11-4a73-b175-763dd5bc09d6"
      },
      "execution_count": 6,
      "outputs": [
        {
          "output_type": "stream",
          "name": "stdout",
          "text": [
            "Loading model and tokenizer...\n",
            "Setting up LoRA for parameter-efficient fine-tuning...\n",
            "trainable params: 294,912 || all params: 60,801,536 || trainable%: 0.4850\n",
            "Trainable parameters: None\n"
          ]
        }
      ]
    },
    {
      "cell_type": "markdown",
      "source": [
        "Tokenize datasets"
      ],
      "metadata": {
        "id": "Bs741cl_6YKX"
      }
    },
    {
      "cell_type": "code",
      "source": [
        "# Tokenization function\n",
        "print(\"Tokenizing datasets...\")\n",
        "PREFIX = \"summarize: \"  # T5 requires task prefix\n",
        "\n",
        "def tokenize_function(examples):\n",
        "    # Prepare inputs with prefix\n",
        "    inputs = [PREFIX + doc for doc in examples[\"article\"]]\n",
        "\n",
        "    # Tokenize inputs (articles)\n",
        "    model_inputs = tokenizer(\n",
        "        inputs,\n",
        "        max_length=512,         # Limit input length\n",
        "        padding=\"max_length\",\n",
        "        truncation=True,\n",
        "    )\n",
        "\n",
        "    # Tokenize targets (summaries)\n",
        "    with tokenizer.as_target_tokenizer():\n",
        "        labels = tokenizer(\n",
        "            examples[\"summary\"],\n",
        "            max_length=128,     # Limit summary length\n",
        "            padding=\"max_length\",\n",
        "            truncation=True,\n",
        "        )\n",
        "\n",
        "    model_inputs[\"labels\"] = labels[\"input_ids\"]\n",
        "\n",
        "    # Replace padding token id's with -100 in labels for loss calculation\n",
        "    model_inputs[\"labels\"] = [\n",
        "        [-100 if token == tokenizer.pad_token_id else token for token in label]\n",
        "        for label in model_inputs[\"labels\"]\n",
        "    ]\n",
        "\n",
        "    return model_inputs\n",
        "\n",
        "# Apply tokenization\n",
        "tokenized_train = train_dataset.map(tokenize_function, batched=True)\n",
        "tokenized_val = val_dataset.map(tokenize_function, batched=True)\n",
        "tokenized_test = test_dataset.map(tokenize_function, batched=True)\n",
        "\n",
        "# Set format for PyTorch\n",
        "tokenized_train.set_format(type=\"torch\", columns=[\"input_ids\", \"attention_mask\", \"labels\"])\n",
        "tokenized_val.set_format(type=\"torch\", columns=[\"input_ids\", \"attention_mask\", \"labels\"])\n",
        "tokenized_test.set_format(type=\"torch\", columns=[\"input_ids\", \"attention_mask\", \"labels\"])"
      ],
      "metadata": {
        "colab": {
          "base_uri": "https://localhost:8080/"
        },
        "id": "Im1ThjAE6YsN",
        "outputId": "434f1d71-496d-43a4-a456-41bd9539c95e"
      },
      "execution_count": 7,
      "outputs": [
        {
          "output_type": "stream",
          "name": "stdout",
          "text": [
            "Tokenizing datasets...\n"
          ]
        }
      ]
    },
    {
      "cell_type": "markdown",
      "source": [
        "Setup training arguments and trainer"
      ],
      "metadata": {
        "id": "eyatGABp6iMz"
      }
    },
    {
      "cell_type": "code",
      "source": [
        "import transformers\n",
        "print(\"Transformers version:\", transformers.__version__)"
      ],
      "metadata": {
        "colab": {
          "base_uri": "https://localhost:8080/"
        },
        "id": "DnMDcIOL627a",
        "outputId": "7fb9da13-b747-48e0-bb56-6bbcfd399c74"
      },
      "execution_count": 9,
      "outputs": [
        {
          "output_type": "stream",
          "name": "stdout",
          "text": [
            "Transformers version: 4.51.3\n"
          ]
        }
      ]
    },
    {
      "cell_type": "code",
      "source": [
        "# # Minimal training args compatible with transformers 4.51.3\n",
        "# training_args = Seq2SeqTrainingArguments(\n",
        "#     output_dir=\"./results_t5_cnn_lora\",\n",
        "#     per_device_train_batch_size=2,\n",
        "#     per_device_eval_batch_size=2,\n",
        "#     learning_rate=1e-3,\n",
        "#     num_train_epochs=3,\n",
        "#     predict_with_generate=True,\n",
        "#     remove_unused_columns=False\n",
        "# )\n",
        "\n",
        "# Updated training arguments without wandb\n",
        "training_args = Seq2SeqTrainingArguments(\n",
        "    output_dir=\"./results_t5_cnn_lora\",\n",
        "    per_device_train_batch_size=2,\n",
        "    per_device_eval_batch_size=2,\n",
        "    learning_rate=1e-3,\n",
        "    num_train_epochs=3,\n",
        "    predict_with_generate=True,\n",
        "    remove_unused_columns=False,\n",
        "    report_to=None  # This disables wandb and other reporting\n",
        ")\n",
        "\n",
        "# Setup evaluation metrics\n",
        "print(\"Setting up evaluation metrics...\")\n",
        "rouge = evaluate.load(\"rouge\")\n",
        "\n",
        "def compute_metrics(eval_preds):\n",
        "    preds, labels = eval_preds\n",
        "\n",
        "    # Decode predictions\n",
        "    decoded_preds = tokenizer.batch_decode(preds, skip_special_tokens=True)\n",
        "\n",
        "    # Replace -100 with pad token id\n",
        "    labels = np.where(labels != -100, labels, tokenizer.pad_token_id)\n",
        "    decoded_labels = tokenizer.batch_decode(labels, skip_special_tokens=True)\n",
        "\n",
        "    # ROUGE expects a newline after each sentence\n",
        "    decoded_preds = [\"\\n\".join(pred.split()) for pred in decoded_preds]\n",
        "    decoded_labels = [\"\\n\".join(label.split()) for label in decoded_labels]\n",
        "\n",
        "    # Compute ROUGE scores\n",
        "    result = rouge.compute(\n",
        "        predictions=decoded_preds,\n",
        "        references=decoded_labels,\n",
        "        use_stemmer=True\n",
        "    )\n",
        "\n",
        "    # Extract ROUGE f1 scores\n",
        "    result = {key: value * 100 for key, value in result.items()}\n",
        "\n",
        "    # Add mean generated length\n",
        "    prediction_lens = [len(pred.split()) for pred in decoded_preds]\n",
        "    result[\"gen_len\"] = np.mean(prediction_lens)\n",
        "\n",
        "    return result\n",
        "\n",
        "# Setup data collator\n",
        "data_collator = DataCollatorForSeq2Seq(\n",
        "    tokenizer=tokenizer,\n",
        "    model=model,\n",
        "    padding=True,\n",
        ")\n",
        "\n",
        "# Initialize trainer\n",
        "trainer = Seq2SeqTrainer(\n",
        "    model=model,\n",
        "    args=training_args,\n",
        "    train_dataset=tokenized_train,\n",
        "    eval_dataset=tokenized_val,\n",
        "    tokenizer=tokenizer,\n",
        "    data_collator=data_collator,\n",
        "    compute_metrics=compute_metrics,\n",
        ")"
      ],
      "metadata": {
        "colab": {
          "base_uri": "https://localhost:8080/"
        },
        "id": "iJ-tgPLX6-UC",
        "outputId": "d2db2d5b-73c6-4979-a0f0-938d56324d15"
      },
      "execution_count": 13,
      "outputs": [
        {
          "output_type": "stream",
          "name": "stdout",
          "text": [
            "Setting up evaluation metrics...\n"
          ]
        },
        {
          "output_type": "stream",
          "name": "stderr",
          "text": [
            "<ipython-input-13-7cb0474b47c9>:66: FutureWarning: `tokenizer` is deprecated and will be removed in version 5.0.0 for `Seq2SeqTrainer.__init__`. Use `processing_class` instead.\n",
            "  trainer = Seq2SeqTrainer(\n",
            "No label_names provided for model class `PeftModelForSeq2SeqLM`. Since `PeftModel` hides base models input arguments, if label_names is not given, label_names can't be set automatically within `Trainer`. Note that empty label_names list will be used instead.\n"
          ]
        }
      ]
    },
    {
      "cell_type": "markdown",
      "source": [],
      "metadata": {
        "id": "HToAEqRN7dk2"
      }
    },
    {
      "cell_type": "code",
      "source": [
        "# Fine-tune the model\n",
        "print(\"Starting fine-tuning...\")\n",
        "trainer.train()\n",
        "\n",
        "# Evaluate on test set\n",
        "print(\"Evaluating fine-tuned model...\")\n",
        "test_results = trainer.evaluate(tokenized_test)\n",
        "print(\"Test results:\", test_results)\n",
        "\n",
        "# Save the fine-tuned model\n",
        "print(\"Saving fine-tuned model...\")\n",
        "trainer.save_model(\"./final_model\")"
      ],
      "metadata": {
        "colab": {
          "base_uri": "https://localhost:8080/",
          "height": 506
        },
        "id": "AhxLAeza7d3Q",
        "outputId": "a22015ff-fdfb-4f4a-8447-6369f9a76925"
      },
      "execution_count": 14,
      "outputs": [
        {
          "output_type": "stream",
          "name": "stdout",
          "text": [
            "Starting fine-tuning...\n"
          ]
        },
        {
          "output_type": "display_data",
          "data": {
            "text/plain": [
              "<IPython.core.display.Javascript object>"
            ],
            "application/javascript": [
              "\n",
              "        window._wandbApiKey = new Promise((resolve, reject) => {\n",
              "            function loadScript(url) {\n",
              "            return new Promise(function(resolve, reject) {\n",
              "                let newScript = document.createElement(\"script\");\n",
              "                newScript.onerror = reject;\n",
              "                newScript.onload = resolve;\n",
              "                document.body.appendChild(newScript);\n",
              "                newScript.src = url;\n",
              "            });\n",
              "            }\n",
              "            loadScript(\"https://cdn.jsdelivr.net/npm/postmate/build/postmate.min.js\").then(() => {\n",
              "            const iframe = document.createElement('iframe')\n",
              "            iframe.style.cssText = \"width:0;height:0;border:none\"\n",
              "            document.body.appendChild(iframe)\n",
              "            const handshake = new Postmate({\n",
              "                container: iframe,\n",
              "                url: 'https://wandb.ai/authorize'\n",
              "            });\n",
              "            const timeout = setTimeout(() => reject(\"Couldn't auto authenticate\"), 5000)\n",
              "            handshake.then(function(child) {\n",
              "                child.on('authorize', data => {\n",
              "                    clearTimeout(timeout)\n",
              "                    resolve(data)\n",
              "                });\n",
              "            });\n",
              "            })\n",
              "        });\n",
              "    "
            ]
          },
          "metadata": {}
        },
        {
          "output_type": "stream",
          "name": "stderr",
          "text": [
            "\u001b[34m\u001b[1mwandb\u001b[0m: Logging into wandb.ai. (Learn how to deploy a W&B server locally: https://wandb.me/wandb-server)\n",
            "\u001b[34m\u001b[1mwandb\u001b[0m: You can find your API key in your browser here: https://wandb.ai/authorize\n",
            "wandb: Paste an API key from your profile and hit enter:"
          ]
        },
        {
          "name": "stdout",
          "output_type": "stream",
          "text": [
            " ··········\n"
          ]
        },
        {
          "output_type": "stream",
          "name": "stderr",
          "text": [
            "wandb: Paste an API key from your profile and hit enter:"
          ]
        },
        {
          "name": "stdout",
          "output_type": "stream",
          "text": [
            " ··········\n"
          ]
        },
        {
          "output_type": "stream",
          "name": "stderr",
          "text": [
            "\u001b[34m\u001b[1mwandb\u001b[0m: \u001b[33mWARNING\u001b[0m If you're specifying your api key in code, ensure this code is not shared publicly.\n",
            "\u001b[34m\u001b[1mwandb\u001b[0m: \u001b[33mWARNING\u001b[0m Consider setting the WANDB_API_KEY environment variable, or running `wandb login` from the command line.\n",
            "\u001b[34m\u001b[1mwandb\u001b[0m: No netrc file found, creating one.\n",
            "\u001b[34m\u001b[1mwandb\u001b[0m: Appending key for api.wandb.ai to your netrc file: /root/.netrc\n",
            "\u001b[34m\u001b[1mwandb\u001b[0m: Currently logged in as: \u001b[33mveerabomma-s\u001b[0m (\u001b[33mveerabomma-s-northeastern-university\u001b[0m) to \u001b[32mhttps://api.wandb.ai\u001b[0m. Use \u001b[1m`wandb login --relogin`\u001b[0m to force relogin\n"
          ]
        },
        {
          "output_type": "display_data",
          "data": {
            "text/plain": [
              "<IPython.core.display.HTML object>"
            ],
            "text/html": [
              "Tracking run with wandb version 0.19.9"
            ]
          },
          "metadata": {}
        },
        {
          "output_type": "display_data",
          "data": {
            "text/plain": [
              "<IPython.core.display.HTML object>"
            ],
            "text/html": [
              "Run data is saved locally in <code>/content/wandb/run-20250423_232156-yk4vaowm</code>"
            ]
          },
          "metadata": {}
        },
        {
          "output_type": "display_data",
          "data": {
            "text/plain": [
              "<IPython.core.display.HTML object>"
            ],
            "text/html": [
              "Syncing run <strong><a href='https://wandb.ai/veerabomma-s-northeastern-university/huggingface/runs/yk4vaowm' target=\"_blank\">./results_t5_cnn_lora</a></strong> to <a href='https://wandb.ai/veerabomma-s-northeastern-university/huggingface' target=\"_blank\">Weights & Biases</a> (<a href='https://wandb.me/developer-guide' target=\"_blank\">docs</a>)<br>"
            ]
          },
          "metadata": {}
        },
        {
          "output_type": "display_data",
          "data": {
            "text/plain": [
              "<IPython.core.display.HTML object>"
            ],
            "text/html": [
              " View project at <a href='https://wandb.ai/veerabomma-s-northeastern-university/huggingface' target=\"_blank\">https://wandb.ai/veerabomma-s-northeastern-university/huggingface</a>"
            ]
          },
          "metadata": {}
        },
        {
          "output_type": "display_data",
          "data": {
            "text/plain": [
              "<IPython.core.display.HTML object>"
            ],
            "text/html": [
              " View run at <a href='https://wandb.ai/veerabomma-s-northeastern-university/huggingface/runs/yk4vaowm' target=\"_blank\">https://wandb.ai/veerabomma-s-northeastern-university/huggingface/runs/yk4vaowm</a>"
            ]
          },
          "metadata": {}
        },
        {
          "output_type": "stream",
          "name": "stderr",
          "text": [
            "/usr/local/lib/python3.11/dist-packages/transformers/data/data_collator.py:741: UserWarning: Creating a tensor from a list of numpy.ndarrays is extremely slow. Please consider converting the list to a single numpy.ndarray with numpy.array() before converting to a tensor. (Triggered internally at /pytorch/torch/csrc/utils/tensor_new.cpp:254.)\n",
            "  batch[\"labels\"] = torch.tensor(batch[\"labels\"], dtype=torch.int64)\n",
            "Passing a tuple of `past_key_values` is deprecated and will be removed in Transformers v4.48.0. You should pass an instance of `EncoderDecoderCache` instead, e.g. `past_key_values=EncoderDecoderCache.from_legacy_cache(past_key_values)`.\n"
          ]
        },
        {
          "output_type": "display_data",
          "data": {
            "text/plain": [
              "<IPython.core.display.HTML object>"
            ],
            "text/html": [
              "\n",
              "    <div>\n",
              "      \n",
              "      <progress value='24' max='24' style='width:300px; height:20px; vertical-align: middle;'></progress>\n",
              "      [24/24 01:28, Epoch 3/3]\n",
              "    </div>\n",
              "    <table border=\"1\" class=\"dataframe\">\n",
              "  <thead>\n",
              " <tr style=\"text-align: left;\">\n",
              "      <th>Step</th>\n",
              "      <th>Training Loss</th>\n",
              "    </tr>\n",
              "  </thead>\n",
              "  <tbody>\n",
              "  </tbody>\n",
              "</table><p>"
            ]
          },
          "metadata": {}
        },
        {
          "output_type": "stream",
          "name": "stdout",
          "text": [
            "Evaluating fine-tuned model...\n"
          ]
        },
        {
          "output_type": "display_data",
          "data": {
            "text/plain": [
              "<IPython.core.display.HTML object>"
            ],
            "text/html": [
              "\n",
              "    <div>\n",
              "      \n",
              "      <progress value='3' max='3' style='width:300px; height:20px; vertical-align: middle;'></progress>\n",
              "      [3/3 00:07]\n",
              "    </div>\n",
              "    "
            ]
          },
          "metadata": {}
        },
        {
          "output_type": "stream",
          "name": "stdout",
          "text": [
            "Test results: {'eval_loss': 1.8993135690689087, 'eval_rouge1': 27.966507177033495, 'eval_rouge2': 8.907626994583516, 'eval_rougeL': 21.94178628389155, 'eval_rougeLsum': 27.983253588516742, 'eval_gen_len': 13.4, 'eval_runtime': 11.8942, 'eval_samples_per_second': 0.42, 'eval_steps_per_second': 0.252, 'epoch': 3.0}\n",
            "Saving fine-tuned model...\n"
          ]
        }
      ]
    },
    {
      "cell_type": "code",
      "source": [
        "# Test inference on examples\n",
        "print(\"\\nGenerating summaries for test examples...\")\n",
        "model.eval()\n",
        "for i, example in enumerate(test_dataset):\n",
        "    article = example[\"article\"]\n",
        "    reference_summary = example[\"summary\"]\n",
        "\n",
        "    # Prepare input for generation\n",
        "    input_text = PREFIX + article\n",
        "    input_ids = tokenizer(input_text, return_tensors=\"pt\", max_length=512, truncation=True).input_ids.to(device)\n",
        "\n",
        "    # Generate summary\n",
        "    outputs = model.generate(\n",
        "        input_ids=input_ids,\n",
        "        max_length=128,\n",
        "        min_length=30,\n",
        "        num_beams=4,\n",
        "        length_penalty=2.0,\n",
        "        early_stopping=True,\n",
        "    )\n",
        "\n",
        "    # Decode summary\n",
        "    predicted_summary = tokenizer.decode(outputs[0], skip_special_tokens=True)\n",
        "\n",
        "    print(f\"\\nExample {i+1}:\")\n",
        "    print(f\"Article (first 150 chars): {article[:150]}...\")\n",
        "    print(f\"Reference summary: {reference_summary}\")\n",
        "    print(f\"Predicted summary: {predicted_summary}\")\n",
        "\n",
        "print(\"\\nFine-tuning completed successfully!\")"
      ],
      "metadata": {
        "colab": {
          "base_uri": "https://localhost:8080/"
        },
        "id": "_OYr95w6AKdb",
        "outputId": "9f3a0fad-8110-4864-dfb1-c2e44ce3323e"
      },
      "execution_count": 15,
      "outputs": [
        {
          "output_type": "stream",
          "name": "stdout",
          "text": [
            "\n",
            "Generating summaries for test examples...\n",
            "\n",
            "Example 1:\n",
            "Article (first 150 chars): (CNN)The Palestinian Authority officially became the 123rd member of the International Criminal Court on Wednesday, a step that gives the court jurisd...\n",
            "Reference summary: Membership gives the ICC jurisdiction over alleged crimes committed in Palestinian territories since last June. Israel and the United States opposed the move, which could open the door to war crimes investigations against Israelis.\n",
            "Predicted summary: the Palestinian Authority officially became the 123rd member of the International Criminal Court on Wednesday. the Palestinians signed the ICC's founding Rome Statute in January. Israel and the United States opposed the Palestinians' efforts to join the body.\n",
            "\n",
            "Example 2:\n",
            "Article (first 150 chars): (CNN)Never mind cats having nine lives. A stray pooch in Washington State has used up at least three of her own after being hit by a car, apparently w...\n",
            "Reference summary: Theia, a bully breed mix, was apparently hit by a car, whacked with a hammer and buried in a field. \"She's a true miracle dog and she deserves a good life,\" says Sara Mellado, who is looking for a home for Theia.\n",
            "Predicted summary: Theia, a friendly white-and-black bully breed mix, has been receiving care at the Veterinary Teaching Hospital. the dog staggered to a nearby farm, dirt-covered and emaciated, where she was found by a worker. Theia suffered a dislocated jaw, leg injuries and a caved-in sinus cavity.\n",
            "\n",
            "Example 3:\n",
            "Article (first 150 chars): (CNN)If you've been following the news lately, there are certain things you doubtless know about Mohammad Javad Zarif. He is, of course, the Iranian f...\n",
            "Reference summary: Mohammad Javad Zarif has spent more time with John Kerry than any other foreign minister. He once participated in a takeover of the Iranian Consulate in San Francisco. The Iranian foreign minister tweets in English.\n",
            "Predicted summary: \"Long live Zarif,\" crowds chanted as his car rolled slowly down the packed street. Zarif tweeted \"Happy Rosh Hashanah,\" referring to the Jewish New Year. Zarif was nominated to be foreign minister by Ahmadinejad's successor.\n",
            "\n",
            "Example 4:\n",
            "Article (first 150 chars): (CNN)Five Americans who were monitored for three weeks at an Omaha, Nebraska, hospital after being exposed to Ebola in West Africa have been released,...\n",
            "Reference summary: 17 Americans were exposed to the Ebola virus while in Sierra Leone in March. Another person was diagnosed with the disease and taken to hospital in Maryland. National Institutes of Health says the patient is in fair condition after weeks of treatment.\n",
            "Predicted summary: five americans were monitored for three weeks at Omaha, Nebraska, hospital after being exposed to Ebola in West Africa. one of the five had a heart-related issue on Saturday and has been discharged but hasn't left the area. they are clinicians for Partners in Health, a Boston-based aid group.\n",
            "\n",
            "Example 5:\n",
            "Article (first 150 chars): (CNN)A Duke student has admitted to hanging a noose made of rope from a tree near a student union, university officials said Thursday. The prestigious...\n",
            "Reference summary: Student is no longer on Duke University campus and will face disciplinary review. School officials identified student during investigation and the person admitted to hanging the noose, Duke says. The noose, made of rope, was discovered on campus about 2 a.m.\n",
            "Predicted summary: Duke student admitted to hanging a noose from a tree near a student union. the student was identified during an investigation by campus police and the office of student affairs. the incident is one of several recent racist events to affect college students.\n",
            "\n",
            "Fine-tuning completed successfully!\n"
          ]
        }
      ]
    },
    {
      "cell_type": "markdown",
      "source": [
        "Additional Evaluation Metrics"
      ],
      "metadata": {
        "id": "KiVi2350A7JA"
      }
    },
    {
      "cell_type": "code",
      "source": [
        "!pip install bert_score"
      ],
      "metadata": {
        "id": "q8k7vpJIBrxe"
      },
      "execution_count": null,
      "outputs": []
    },
    {
      "cell_type": "code",
      "source": [
        "import evaluate\n",
        "\n",
        "# BERTScore - semantic similarity (higher is better)\n",
        "bertscore = evaluate.load(\"bertscore\")\n",
        "def calculate_bertscore(predictions, references):\n",
        "    results = bertscore.compute(\n",
        "        predictions=predictions,\n",
        "        references=references,\n",
        "        lang=\"en\"\n",
        "    )\n",
        "    return {\"precision\": np.mean(results[\"precision\"]),\n",
        "            \"recall\": np.mean(results[\"recall\"]),\n",
        "            \"f1\": np.mean(results[\"f1\"])}\n",
        "\n",
        "# METEOR - human correlation (higher is better)\n",
        "meteor = evaluate.load(\"meteor\")\n",
        "def calculate_meteor(predictions, references):\n",
        "    return meteor.compute(predictions=predictions, references=references)\n",
        "\n",
        "# Apply these metrics to your test results\n",
        "preds = []\n",
        "refs = []\n",
        "for i, example in enumerate(test_dataset):\n",
        "    # Generate prediction for this example\n",
        "    input_text = PREFIX + example[\"article\"]\n",
        "    input_ids = tokenizer(input_text, return_tensors=\"pt\", max_length=512, truncation=True).input_ids.to(device)\n",
        "    outputs = model.generate(input_ids=input_ids, max_length=128)\n",
        "    prediction = tokenizer.decode(outputs[0], skip_special_tokens=True)\n",
        "\n",
        "    preds.append(prediction)\n",
        "    refs.append(example[\"summary\"])\n",
        "\n",
        "print(\"\\nAdditional Metrics:\")\n",
        "print(\"BERTScore:\", calculate_bertscore(preds, refs))\n",
        "print(\"METEOR:\", calculate_meteor(preds, refs))"
      ],
      "metadata": {
        "colab": {
          "base_uri": "https://localhost:8080/"
        },
        "id": "cKTJuhM3A7mc",
        "outputId": "9c81c4e9-989d-4e01-af1b-66554e6932b1"
      },
      "execution_count": 20,
      "outputs": [
        {
          "output_type": "stream",
          "name": "stderr",
          "text": [
            "[nltk_data] Downloading package wordnet to /root/nltk_data...\n",
            "[nltk_data]   Package wordnet is already up-to-date!\n",
            "[nltk_data] Downloading package punkt_tab to /root/nltk_data...\n",
            "[nltk_data]   Package punkt_tab is already up-to-date!\n",
            "[nltk_data] Downloading package omw-1.4 to /root/nltk_data...\n",
            "[nltk_data]   Package omw-1.4 is already up-to-date!\n"
          ]
        },
        {
          "output_type": "stream",
          "name": "stdout",
          "text": [
            "\n",
            "Additional Metrics:\n"
          ]
        },
        {
          "output_type": "stream",
          "name": "stderr",
          "text": [
            "Some weights of RobertaModel were not initialized from the model checkpoint at roberta-large and are newly initialized: ['pooler.dense.bias', 'pooler.dense.weight']\n",
            "You should probably TRAIN this model on a down-stream task to be able to use it for predictions and inference.\n"
          ]
        },
        {
          "output_type": "stream",
          "name": "stdout",
          "text": [
            "BERTScore: {'precision': np.float64(0.8760390162467957), 'recall': np.float64(0.8802922368049622), 'f1': np.float64(0.8781285166740418)}\n",
            "METEOR: {'meteor': np.float64(0.25584445671597134)}\n"
          ]
        }
      ]
    },
    {
      "cell_type": "markdown",
      "source": [
        "Compare with Baseline Models\n",
        "The most compelling comparison is with baseline models:"
      ],
      "metadata": {
        "id": "hpJXEUMuBzik"
      }
    },
    {
      "cell_type": "code",
      "source": [
        "# First, get the actual keys in your test_results\n",
        "print(\"Available keys in test_results:\")\n",
        "for key in test_results.keys():\n",
        "    print(f\"- {key}\")\n",
        "\n",
        "# Modified comparison function\n",
        "def evaluate_and_compare():\n",
        "    # Load untuned T5 model\n",
        "    print(\"Loading baseline model...\")\n",
        "    baseline_model = T5ForConditionalGeneration.from_pretrained(\"t5-small\")\n",
        "    baseline_model.to(device)\n",
        "\n",
        "    # Prepare test examples\n",
        "    preds = []\n",
        "    baseline_preds = []\n",
        "    refs = []\n",
        "\n",
        "    print(\"Generating predictions...\")\n",
        "    for i, example in enumerate(test_dataset):\n",
        "        # Get article and reference summary\n",
        "        article = example[\"article\"]\n",
        "        reference = example[\"summary\"]\n",
        "        refs.append(reference)\n",
        "\n",
        "        # Prepare input\n",
        "        input_text = PREFIX + article\n",
        "        input_ids = tokenizer(input_text, return_tensors=\"pt\", max_length=512, truncation=True).input_ids.to(device)\n",
        "\n",
        "        # Generate with fine-tuned model\n",
        "        outputs = model.generate(input_ids=input_ids, max_length=128)\n",
        "        prediction = tokenizer.decode(outputs[0], skip_special_tokens=True)\n",
        "        preds.append(prediction)\n",
        "\n",
        "        # Generate with baseline model\n",
        "        outputs = baseline_model.generate(input_ids=input_ids, max_length=128)\n",
        "        baseline_prediction = tokenizer.decode(outputs[0], skip_special_tokens=True)\n",
        "        baseline_preds.append(baseline_prediction)\n",
        "\n",
        "    # Calculate ROUGE for both models\n",
        "    print(\"Calculating ROUGE scores...\")\n",
        "    tuned_results = rouge.compute(\n",
        "        predictions=preds,\n",
        "        references=refs,\n",
        "        use_stemmer=True\n",
        "    )\n",
        "\n",
        "    baseline_results = rouge.compute(\n",
        "        predictions=baseline_preds,\n",
        "        references=refs,\n",
        "        use_stemmer=True\n",
        "    )\n",
        "\n",
        "    # Convert to percentages\n",
        "    tuned_results = {key: value * 100 for key, value in tuned_results.items()}\n",
        "    baseline_results = {key: value * 100 for key, value in baseline_results.items()}\n",
        "\n",
        "    # Display comparison\n",
        "    print(\"\\nComparison with Baseline (untuned) Model:\")\n",
        "    for metric in tuned_results.keys():\n",
        "        if metric in baseline_results:\n",
        "            print(f\"{metric}: Tuned: {tuned_results[metric]:.2f} vs Baseline: {baseline_results[metric]:.2f}\")\n",
        "            print(f\"Improvement: {tuned_results[metric] - baseline_results[metric]:.2f} points\")\n",
        "\n",
        "    return tuned_results, baseline_results\n",
        "\n",
        "# Run the evaluation\n",
        "tuned_results, baseline_results = evaluate_and_compare()"
      ],
      "metadata": {
        "colab": {
          "base_uri": "https://localhost:8080/"
        },
        "id": "DfUFiN1vBzPW",
        "outputId": "c32fada6-7d61-44d6-865b-10b8a17a69cf"
      },
      "execution_count": 22,
      "outputs": [
        {
          "output_type": "stream",
          "name": "stdout",
          "text": [
            "Available keys in test_results:\n",
            "- eval_loss\n",
            "- eval_rouge1\n",
            "- eval_rouge2\n",
            "- eval_rougeL\n",
            "- eval_rougeLsum\n",
            "- eval_gen_len\n",
            "- eval_runtime\n",
            "- eval_samples_per_second\n",
            "- eval_steps_per_second\n",
            "- epoch\n",
            "Loading baseline model...\n",
            "Generating predictions...\n",
            "Calculating ROUGE scores...\n",
            "\n",
            "Comparison with Baseline (untuned) Model:\n",
            "rouge1: Tuned: 36.21 vs Baseline: 36.16\n",
            "Improvement: 0.04 points\n",
            "rouge2: Tuned: 9.68 vs Baseline: 7.98\n",
            "Improvement: 1.70 points\n",
            "rougeL: Tuned: 22.34 vs Baseline: 23.98\n",
            "Improvement: -1.65 points\n",
            "rougeLsum: Tuned: 22.41 vs Baseline: 24.09\n",
            "Improvement: -1.68 points\n"
          ]
        }
      ]
    },
    {
      "cell_type": "code",
      "source": [
        "import matplotlib.pyplot as plt\n",
        "\n",
        "def visualize_comparison(tuned_results, baseline_results):\n",
        "    # Get common metrics\n",
        "    metrics = [key for key in tuned_results.keys() if key in baseline_results]\n",
        "\n",
        "    tuned_scores = [tuned_results[m] for m in metrics]\n",
        "    baseline_scores = [baseline_results[m] for m in metrics]\n",
        "\n",
        "    x = np.arange(len(metrics))\n",
        "    width = 0.35\n",
        "\n",
        "    fig, ax = plt.subplots(figsize=(10, 6))\n",
        "    baseline_bars = ax.bar(x - width/2, baseline_scores, width, label='Baseline T5')\n",
        "    tuned_bars = ax.bar(x + width/2, tuned_scores, width, label='LoRA Fine-tuned T5')\n",
        "\n",
        "    ax.set_ylabel('Score')\n",
        "    ax.set_title('Metrics: Baseline vs. Fine-tuned Model')\n",
        "    ax.set_xticks(x)\n",
        "    ax.set_xticklabels(metrics)\n",
        "    ax.legend()\n",
        "\n",
        "    # Add value labels on bars\n",
        "    for i, v in enumerate(baseline_scores):\n",
        "        ax.text(i - width/2, v + 0.5, f'{v:.2f}', ha='center')\n",
        "\n",
        "    for i, v in enumerate(tuned_scores):\n",
        "        ax.text(i + width/2, v + 0.5, f'{v:.2f}', ha='center')\n",
        "\n",
        "    fig.tight_layout()\n",
        "    plt.show()\n",
        "\n",
        "# Visualize the results\n",
        "visualize_comparison(tuned_results, baseline_results)"
      ],
      "metadata": {
        "colab": {
          "base_uri": "https://localhost:8080/",
          "height": 607
        },
        "id": "evEbt0bfPocp",
        "outputId": "5cb09ba7-932a-48eb-f353-86ad6fe754a0"
      },
      "execution_count": 23,
      "outputs": [
        {
          "output_type": "display_data",
          "data": {
            "text/plain": [
              "<Figure size 1000x600 with 1 Axes>"
            ],
            "image/png": "[encoded data removed]"
          },
          "metadata": {}
        }
      ]
    },
    {
      "cell_type": "code",
      "source": [
        "def generate_technical_report():\n",
        "    # Model parameters\n",
        "    trainable_params = sum(p.numel() for p in model.parameters() if p.requires_grad)\n",
        "    total_params = sum(p.numel() for p in model.parameters())\n",
        "\n",
        "    # Training details\n",
        "    training_details = {\n",
        "        \"base_model\": \"t5-small\",\n",
        "        \"fine_tuning_method\": \"LoRA (Low-Rank Adaptation)\",\n",
        "        \"training_examples\": len(train_dataset),\n",
        "        \"validation_examples\": len(val_dataset),\n",
        "        \"test_examples\": len(test_dataset),\n",
        "        \"epochs\": training_args.num_train_epochs,\n",
        "        \"learning_rate\": training_args.learning_rate,\n",
        "        \"batch_size\": training_args.per_device_train_batch_size,\n",
        "        \"total_parameters\": total_params,\n",
        "        \"trainable_parameters\": trainable_params,\n",
        "        \"trainable_percentage\": trainable_params / total_params * 100,\n",
        "        \"lora_rank\": 8,  # From your LoRA configuration\n",
        "        \"lora_alpha\": 32,\n",
        "        \"lora_dropout\": 0.1,\n",
        "        \"target_modules\": [\"q\", \"v\"]\n",
        "    }\n",
        "\n",
        "    # Print report\n",
        "    print(\"\\nTechnical Parameters Report:\")\n",
        "    print(\"-\" * 50)\n",
        "    for key, value in training_details.items():\n",
        "        print(f\"{key}: {value}\")\n",
        "    print(\"-\" * 50)\n",
        "\n",
        "    return training_details\n",
        "\n",
        "tech_report = generate_technical_report()"
      ],
      "metadata": {
        "colab": {
          "base_uri": "https://localhost:8080/"
        },
        "id": "xyzZ0q5APrw3",
        "outputId": "e1ee6c02-6cb8-4072-c71c-e4f9140faf96"
      },
      "execution_count": 24,
      "outputs": [
        {
          "output_type": "stream",
          "name": "stdout",
          "text": [
            "\n",
            "Technical Parameters Report:\n",
            "--------------------------------------------------\n",
            "base_model: t5-small\n",
            "fine_tuning_method: LoRA (Low-Rank Adaptation)\n",
            "training_examples: 15\n",
            "validation_examples: 5\n",
            "test_examples: 5\n",
            "epochs: 3\n",
            "learning_rate: 0.001\n",
            "batch_size: 2\n",
            "total_parameters: 60801536\n",
            "trainable_parameters: 294912\n",
            "trainable_percentage: 0.48504037792729443\n",
            "lora_rank: 8\n",
            "lora_alpha: 32\n",
            "lora_dropout: 0.1\n",
            "target_modules: ['q', 'v']\n",
            "--------------------------------------------------\n"
          ]
        }
      ]
    }
  ]
}